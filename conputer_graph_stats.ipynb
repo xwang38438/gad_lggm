{
 "cells": [
  {
   "cell_type": "code",
   "execution_count": 6,
   "metadata": {},
   "outputs": [],
   "source": [
    "import torch\n",
    "import networkx as nx\n",
    "import numpy as np"
   ]
  },
  {
   "cell_type": "code",
   "execution_count": 7,
   "metadata": {},
   "outputs": [],
   "source": [
    "reddit = torch.load('./gad_datasets/reddit/reddit.pt')"
   ]
  },
  {
   "cell_type": "code",
   "execution_count": 11,
   "metadata": {},
   "outputs": [],
   "source": [
    "clustering_coefficients = []\n",
    "for adj_matrix in reddit:\n",
    "    G = nx.from_numpy_matrix(adj_matrix.numpy())\n",
    "    # undirected graph\n",
    "    G = G.to_undirected()\n",
    "    clustering_coeffs = nx.clustering(G)\n",
    "    avg_clustering_coeff = np.mean(list(clustering_coeffs.values()))\n",
    "    clustering_coefficients.append(avg_clustering_coeff)"
   ]
  },
  {
   "cell_type": "code",
   "execution_count": 12,
   "metadata": {},
   "outputs": [
    {
     "data": {
      "text/plain": [
       "0.0"
      ]
     },
     "execution_count": 12,
     "metadata": {},
     "output_type": "execute_result"
    }
   ],
   "source": [
    "np.mean(clustering_coefficients)"
   ]
  },
  {
   "cell_type": "code",
   "execution_count": 20,
   "metadata": {},
   "outputs": [],
   "source": [
    "import numpy as np\n",
    "\n",
    "# Load the npz file\n",
    "gen_data = np.load('./outputs/test_reddit max150 uniform/generated_adjs.npz')\n",
    "\n",
    "# Load the arrays\n",
    "files = gen_data.files"
   ]
  },
  {
   "cell_type": "code",
   "execution_count": 23,
   "metadata": {},
   "outputs": [
    {
     "data": {
      "text/plain": [
       "array([[False, False, False, ..., False, False, False],\n",
       "       [False, False, False, ..., False, False, False],\n",
       "       [False, False, False, ..., False, False, False],\n",
       "       ...,\n",
       "       [False, False, False, ..., False, False, False],\n",
       "       [False, False, False, ..., False, False, False],\n",
       "       [False, False, False, ..., False, False, False]])"
      ]
     },
     "execution_count": 23,
     "metadata": {},
     "output_type": "execute_result"
    }
   ],
   "source": [
    "gen_data['arr_0']"
   ]
  },
  {
   "cell_type": "code",
   "execution_count": 24,
   "metadata": {},
   "outputs": [],
   "source": [
    "clustering_coefficients = []\n",
    "for file in files:\n",
    "    adj_matrix = gen_data[file]\n",
    "    G = nx.from_numpy_matrix(adj_matrix.astype(int))\n",
    "    clustering_coeffs = nx.clustering(G)\n",
    "    avg_clustering_coeff = np.mean(list(clustering_coeffs.values()))\n",
    "    clustering_coefficients.append(avg_clustering_coeff)"
   ]
  },
  {
   "cell_type": "code",
   "execution_count": 27,
   "metadata": {},
   "outputs": [
    {
     "data": {
      "text/plain": [
       "0.020023585732553827"
      ]
     },
     "execution_count": 27,
     "metadata": {},
     "output_type": "execute_result"
    }
   ],
   "source": [
    "np.mean(clustering_coefficients)"
   ]
  },
  {
   "cell_type": "code",
   "execution_count": 24,
   "metadata": {},
   "outputs": [],
   "source": [
    "import torch"
   ]
  },
  {
   "cell_type": "code",
   "execution_count": 25,
   "metadata": {},
   "outputs": [],
   "source": [
    "aug_datat = torch.load('outputs/aug_reddit_onehot/augment_samples.pt')"
   ]
  },
  {
   "cell_type": "code",
   "execution_count": 31,
   "metadata": {},
   "outputs": [
    {
     "data": {
      "text/plain": [
       "Data(x=[150, 2], edge_index=[2, 1720])"
      ]
     },
     "execution_count": 31,
     "metadata": {},
     "output_type": "execute_result"
    }
   ],
   "source": [
    "aug_datat[0]"
   ]
  },
  {
   "cell_type": "code",
   "execution_count": 19,
   "metadata": {},
   "outputs": [
    {
     "name": "stdout",
     "output_type": "stream",
     "text": [
      "tensor([[0, 1, 2, 2],\n",
      "        [2, 2, 0, 1]])\n"
     ]
    }
   ],
   "source": [
    "import torch\n",
    "import numpy as np\n",
    "\n",
    "def adj_to_edge_index(adj):\n",
    "    \"\"\"\n",
    "    Convert adjacency matrix to edge_index format for PyTorch Geometric.\n",
    "    \n",
    "    Parameters:\n",
    "    adj (numpy.ndarray or torch.Tensor): Adjacency matrix of shape (n, n)\n",
    "\n",
    "    Returns:\n",
    "    torch.Tensor: edge_index tensor of shape (2, num_edges)\n",
    "    \"\"\"\n",
    "    if isinstance(adj, np.ndarray):\n",
    "        adj = torch.tensor(adj)\n",
    "    \n",
    "    assert adj.shape[0] == adj.shape[1], \"Adjacency matrix should be square\"\n",
    "    \n",
    "    # Get the indices of the upper triangular part of the matrix, excluding the diagonal\n",
    "    row, col = torch.triu_indices(adj.shape[0], adj.shape[1], offset=1)\n",
    "    \n",
    "    # Create edge_index\n",
    "    edge_index = torch.stack([row, col], dim=0)\n",
    "    \n",
    "    # Filter edges based on adjacency matrix (considering it as undirected)\n",
    "    mask = adj[row, col].bool()\n",
    "    edge_index = edge_index[:, mask]\n",
    "    \n",
    "    # Create the reverse edges to make the graph undirected\n",
    "    edge_index_reverse = torch.stack([edge_index[1], edge_index[0]], dim=0)\n",
    "    \n",
    "    # Combine original and reverse edges\n",
    "    edge_index = torch.cat([edge_index, edge_index_reverse], dim=1)\n",
    "    \n",
    "    return edge_index\n",
    "\n",
    "# Example usage\n",
    "adj = np.array([[0, 0, 1],\n",
    "                [0, 0, 1],\n",
    "                [0, 0, 0]])\n",
    "\n",
    "edge_index = adj_to_edge_index(adj)\n",
    "print(edge_index)\n"
   ]
  }
 ],
 "metadata": {
  "kernelspec": {
   "display_name": "gad",
   "language": "python",
   "name": "python3"
  },
  "language_info": {
   "codemirror_mode": {
    "name": "ipython",
    "version": 3
   },
   "file_extension": ".py",
   "mimetype": "text/x-python",
   "name": "python",
   "nbconvert_exporter": "python",
   "pygments_lexer": "ipython3",
   "version": "3.10.14"
  }
 },
 "nbformat": 4,
 "nbformat_minor": 2
}
