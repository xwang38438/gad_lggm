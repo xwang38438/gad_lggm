{
 "cells": [
  {
   "cell_type": "code",
   "execution_count": 1,
   "metadata": {},
   "outputs": [],
   "source": [
    "import torch"
   ]
  },
  {
   "cell_type": "code",
   "execution_count": 6,
   "metadata": {},
   "outputs": [],
   "source": [
    "samples = torch.load('outputs/AUG_reddit uniform/augment_samples.pt')"
   ]
  },
  {
   "cell_type": "code",
   "execution_count": 8,
   "metadata": {},
   "outputs": [
    {
     "data": {
      "text/plain": [
       "146"
      ]
     },
     "execution_count": 8,
     "metadata": {},
     "output_type": "execute_result"
    }
   ],
   "source": [
    "len(samples)"
   ]
  },
  {
   "cell_type": "code",
   "execution_count": 21,
   "metadata": {},
   "outputs": [
    {
     "name": "stdout",
     "output_type": "stream",
     "text": [
      "219\n"
     ]
    }
   ],
   "source": [
    "reddit = torch.load('gad_datasets/reddit_continuous/reddit_continuous.pt')\n",
    "print(len(reddit))"
   ]
  },
  {
   "cell_type": "code",
   "execution_count": 24,
   "metadata": {},
   "outputs": [
    {
     "data": {
      "text/plain": [
       "tensor([[0.0114, 0.0165, 0.0133,  ..., 0.0156, 0.0178, 0.0000],\n",
       "        [0.0209, 0.0172, 0.0190,  ..., 0.0156, 0.0174, 0.0000],\n",
       "        [0.0159, 0.0155, 0.0153,  ..., 0.0156, 0.0167, 0.0000],\n",
       "        ...,\n",
       "        [0.0176, 0.0173, 0.0175,  ..., 0.0154, 0.0175, 0.0000],\n",
       "        [0.0122, 0.0143, 0.0132,  ..., 0.0154, 0.0173, 0.0000],\n",
       "        [0.0151, 0.0160, 0.0169,  ..., 0.0156, 0.0174, 0.0000]])"
      ]
     },
     "execution_count": 24,
     "metadata": {},
     "output_type": "execute_result"
    }
   ],
   "source": [
    "reddit[0][2]"
   ]
  },
  {
   "cell_type": "code",
   "execution_count": 25,
   "metadata": {},
   "outputs": [],
   "source": [
    "reddit_modified = [(t[0], t[1], t[2][..., :-1]) for t in reddit]"
   ]
  },
  {
   "cell_type": "code",
   "execution_count": 26,
   "metadata": {},
   "outputs": [
    {
     "data": {
      "text/plain": [
       "tensor([[0.0114, 0.0165, 0.0133,  ..., 0.0156, 0.0156, 0.0178],\n",
       "        [0.0209, 0.0172, 0.0190,  ..., 0.0156, 0.0156, 0.0174],\n",
       "        [0.0159, 0.0155, 0.0153,  ..., 0.0156, 0.0156, 0.0167],\n",
       "        ...,\n",
       "        [0.0176, 0.0173, 0.0175,  ..., 0.0154, 0.0154, 0.0175],\n",
       "        [0.0122, 0.0143, 0.0132,  ..., 0.0154, 0.0154, 0.0173],\n",
       "        [0.0151, 0.0160, 0.0169,  ..., 0.0156, 0.0156, 0.0174]])"
      ]
     },
     "execution_count": 26,
     "metadata": {},
     "output_type": "execute_result"
    }
   ],
   "source": [
    "torch.save(reddit_modified, 'gad_datasets/reddit_continuous/reddit_continuous.pt')"
   ]
  }
 ],
 "metadata": {
  "kernelspec": {
   "display_name": "gad_v2",
   "language": "python",
   "name": "python3"
  },
  "language_info": {
   "codemirror_mode": {
    "name": "ipython",
    "version": 3
   },
   "file_extension": ".py",
   "mimetype": "text/x-python",
   "name": "python",
   "nbconvert_exporter": "python",
   "pygments_lexer": "ipython3",
   "version": "3.10.14"
  }
 },
 "nbformat": 4,
 "nbformat_minor": 2
}
